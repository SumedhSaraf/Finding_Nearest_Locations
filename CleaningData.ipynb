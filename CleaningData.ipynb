{
 "cells": [
  {
   "cell_type": "code",
   "execution_count": 12,
   "metadata": {
    "collapsed": true
   },
   "outputs": [],
   "source": [
    "import csv\n",
    "import pandas as pd\n",
    "import numpy as np\n",
    "import math"
   ]
  },
  {
   "cell_type": "code",
   "execution_count": 5,
   "metadata": {
    "collapsed": true
   },
   "outputs": [],
   "source": [
    "zillow = pd.read_csv(\"properties_2016.csv\",low_memory = False, index_col = False)\n",
    "dd = pd.read_excel(\"zillow_data_dictionary.xlsx\",encoding='utf-8',index_col=None)"
   ]
  },
  {
   "cell_type": "code",
   "execution_count": 10,
   "metadata": {},
   "outputs": [
    {
     "data": {
      "text/plain": [
       "1.9311661218036793"
      ]
     },
     "execution_count": 10,
     "metadata": {},
     "output_type": "execute_result"
    }
   ],
   "source": [
    "zillow['airconditioningtypeid'].mean()"
   ]
  },
  {
   "cell_type": "markdown",
   "metadata": {},
   "source": [
    "#### the data dictionary shows that digit 5 for this column represents None means No records found for the type or no air condition present"
   ]
  },
  {
   "cell_type": "code",
   "execution_count": 17,
   "metadata": {
    "collapsed": true
   },
   "outputs": [],
   "source": [
    "zillow.update(zillow[['airconditioningtypeid']].fillna(5))"
   ]
  },
  {
   "cell_type": "markdown",
   "metadata": {},
   "source": [
    "#### the data dictionary shows that digit 19 for this column represents other means No records found for the type or no records related to architectural style present"
   ]
  },
  {
   "cell_type": "code",
   "execution_count": 19,
   "metadata": {
    "collapsed": true
   },
   "outputs": [],
   "source": [
    "zillow.update(zillow[['architecturalstyletypeid']].fillna(19))"
   ]
  },
  {
   "cell_type": "markdown",
   "metadata": {},
   "source": [
    "### the basement sqft has many missing values so 0 represnts either the property has no basement or the data is not recorded"
   ]
  },
  {
   "cell_type": "code",
   "execution_count": null,
   "metadata": {
    "collapsed": true
   },
   "outputs": [],
   "source": [
    "zillow.update(zillow[['basementsqft']].fillna(0)) "
   ]
  },
  {
   "cell_type": "code",
   "execution_count": 20,
   "metadata": {
    "collapsed": true
   },
   "outputs": [],
   "source": [
    "zillow.update(zillow[['bathroomcnt']].fillna(0))  "
   ]
  },
  {
   "cell_type": "code",
   "execution_count": 21,
   "metadata": {
    "collapsed": true
   },
   "outputs": [],
   "source": [
    "zillow.update(zillow[['bedroomcnt']].fillna(0))   "
   ]
  },
  {
   "cell_type": "markdown",
   "metadata": {},
   "source": [
    "### Specialized buildings that do not fit in any of the above categories is represnted by digit 5 in column \"buildingclasstypeid\", thus we can replace 5 in the missing values record"
   ]
  },
  {
   "cell_type": "code",
   "execution_count": 23,
   "metadata": {
    "collapsed": true
   },
   "outputs": [],
   "source": [
    "zillow.update(zillow[['buildingclasstypeid']].fillna(5))      "
   ]
  },
  {
   "cell_type": "markdown",
   "metadata": {},
   "source": [
    "### We can fill in the mean  'buildingqualitytypeid' as it can represent the missing values in the column as we cant just assume a random number for the mssing values in this column"
   ]
  },
  {
   "cell_type": "code",
   "execution_count": null,
   "metadata": {
    "collapsed": true
   },
   "outputs": [],
   "source": []
  },
  {
   "cell_type": "code",
   "execution_count": 27,
   "metadata": {
    "collapsed": true
   },
   "outputs": [],
   "source": [
    "zillow['buildingqualitytypeid'].fillna(zillow['buildingqualitytypeid'].mean(),inplace = True)"
   ]
  },
  {
   "cell_type": "code",
   "execution_count": 36,
   "metadata": {
    "collapsed": true
   },
   "outputs": [],
   "source": [
    "# zillow['buildingqualitytypeid'].apply(pd.Series.round)\n",
    "# math.ceil(zillow['buildingqualitytypeid'])\n",
    "zillow['buildingqualitytypeid'] = zillow['buildingqualitytypeid'].round()"
   ]
  },
  {
   "cell_type": "code",
   "execution_count": 38,
   "metadata": {
    "collapsed": true
   },
   "outputs": [],
   "source": [
    "zillow.update(zillow[['calculatedbathnbr']].fillna(0))   "
   ]
  },
  {
   "cell_type": "code",
   "execution_count": 39,
   "metadata": {
    "collapsed": true
   },
   "outputs": [],
   "source": [
    "zillow.update(zillow[['decktypeid']].fillna(0))  \n",
    "# Here 0 represens that no deck is present"
   ]
  },
  {
   "cell_type": "code",
   "execution_count": 41,
   "metadata": {
    "collapsed": true
   },
   "outputs": [],
   "source": [
    "zillow.update(zillow[['finishedfloor1squarefeet']].fillna(0)) "
   ]
  },
  {
   "cell_type": "code",
   "execution_count": 49,
   "metadata": {
    "collapsed": true
   },
   "outputs": [],
   "source": [
    "zillow.update(zillow[['calculatedfinishedsquarefeet','finishedsquarefeet12','finishedsquarefeet13','finishedsquarefeet15','finishedsquarefeet50','finishedsquarefeet6','fireplacecnt','fullbathcnt','garagecarcnt','garagetotalsqft']].fillna(0))"
   ]
  },
  {
   "cell_type": "code",
   "execution_count": 50,
   "metadata": {
    "collapsed": true
   },
   "outputs": [],
   "source": [
    "zillow.update(zillow[['lotsizesquarefeet','poolcnt','regionidcity','regionidneighborhood','regionidzip','roomcnt','storytypeid','yardbuildingsqft17','yardbuildingsqft26','yearbuilt','censustractandblock','taxdelinquencyyear','taxamount','landtaxvaluedollarcnt','taxvaluedollarcnt','structuretaxvaluedollarcnt']].fillna(0))"
   ]
  },
  {
   "cell_type": "code",
   "execution_count": null,
   "metadata": {
    "collapsed": true
   },
   "outputs": [],
   "source": []
  },
  {
   "cell_type": "code",
   "execution_count": 52,
   "metadata": {
    "collapsed": true
   },
   "outputs": [],
   "source": [
    "zillow.drop(zillow[[ 'hashottuborspa', 'pooltypeid2', 'pooltypeid7'  , 'poolsizesum' ,'propertycountylandusecode', 'hashottuborspa', 'propertyzoningdesc' ,'fireplacecnt', 'fullbathcnt' , 'threequarterbathnbr' ,'taxdelinquencyflag']], axis=1, inplace=True) "
   ]
  },
  {
   "cell_type": "code",
   "execution_count": 53,
   "metadata": {
    "collapsed": true
   },
   "outputs": [],
   "source": [
    "\n",
    "zillow.update(zillow[['heatingorsystemtypeid','typeconstructiontypeid']].fillna(14)) \n",
    "zillow.update(zillow[['unitcnt','numberofstories']].fillna(1)) "
   ]
  },
  {
   "cell_type": "code",
   "execution_count": null,
   "metadata": {
    "collapsed": true
   },
   "outputs": [],
   "source": [
    "zillow.update(zillow[['latitude','longitude']].fillna(0)) "
   ]
  },
  {
   "cell_type": "code",
   "execution_count": 54,
   "metadata": {
    "collapsed": true
   },
   "outputs": [],
   "source": [
    "zillow.to_csv('zillow.csv',index=False)"
   ]
  }
 ],
 "metadata": {
  "anaconda-cloud": {},
  "kernelspec": {
   "display_name": "Python 3",
   "language": "python",
   "name": "python3"
  },
  "language_info": {
   "codemirror_mode": {
    "name": "ipython",
    "version": 3
   },
   "file_extension": ".py",
   "mimetype": "text/x-python",
   "name": "python",
   "nbconvert_exporter": "python",
   "pygments_lexer": "ipython3",
   "version": "3.4.0"
  }
 },
 "nbformat": 4,
 "nbformat_minor": 2
}
